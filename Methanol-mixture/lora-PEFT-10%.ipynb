version https://git-lfs.github.com/spec/v1
oid sha256:9199f823a60075972fba177d32ffaf9abc2ccf0827fa7c83b2e9d5fb0de1226a
size 92519
