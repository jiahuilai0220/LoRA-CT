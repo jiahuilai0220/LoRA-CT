{
 "cells": [
  {
   "cell_type": "code",
   "execution_count": 1,
   "metadata": {},
   "outputs": [],
   "source": [
    "import torch\n",
    "from model import CNN\n",
    "import numpy as np\n",
    "import pandas as pd\n",
    "from sklearn.model_selection import train_test_split\n",
    "from torch.utils.data import TensorDataset, DataLoader\n",
    "from sklearn.metrics import r2_score, root_mean_squared_error, mean_absolute_error, max_error\n",
    "# Determine the equipment\n",
    "device = torch.device('cuda' if torch.cuda.is_available() else 'cpu')"
   ]
  },
  {
   "cell_type": "markdown",
   "metadata": {},
   "source": [
    "### Calibration Transfer-merge LoRA modules with pre-trained weights"
   ]
  },
  {
   "cell_type": "code",
   "execution_count": 2,
   "metadata": {},
   "outputs": [
    {
     "name": "stderr",
     "output_type": "stream",
     "text": [
      "C:\\Users\\lai jiahui\\AppData\\Local\\Temp\\ipykernel_16188\\556369861.py:4: FutureWarning: You are using `torch.load` with `weights_only=False` (the current default value), which uses the default pickle module implicitly. It is possible to construct malicious pickle data which will execute arbitrary code during unpickling (See https://github.com/pytorch/pytorch/blob/main/SECURITY.md#untrusted-models for more details). In a future release, the default value for `weights_only` will be flipped to `True`. This limits the functions that could be executed during unpickling. Arbitrary objects will no longer be allowed to be loaded via this mode unless they are explicitly allowlisted by the user via `torch.serialization.add_safe_globals`. We recommend you start setting `weights_only=True` for any use case where you don't have full control of the loaded file. Please open an issue on GitHub for any issues related to this experimental feature.\n",
      "  base_model.load_state_dict(torch.load(base_model_path, map_location=device))\n",
      "C:\\Users\\lai jiahui\\AppData\\Local\\Temp\\ipykernel_16188\\556369861.py:5: FutureWarning: You are using `torch.load` with `weights_only=False` (the current default value), which uses the default pickle module implicitly. It is possible to construct malicious pickle data which will execute arbitrary code during unpickling (See https://github.com/pytorch/pytorch/blob/main/SECURITY.md#untrusted-models for more details). In a future release, the default value for `weights_only` will be flipped to `True`. This limits the functions that could be executed during unpickling. Arbitrary objects will no longer be allowed to be loaded via this mode unless they are explicitly allowlisted by the user via `torch.serialization.add_safe_globals`. We recommend you start setting `weights_only=True` for any use case where you don't have full control of the loaded file. Please open an issue on GitHub for any issues related to this experimental feature.\n",
      "  base_model.load_state_dict(torch.load('peft_model_BN_15%.pt', map_location=device), strict=False)\n",
      "C:\\Users\\lai jiahui\\AppData\\Local\\Temp\\ipykernel_16188\\556369861.py:11: FutureWarning: You are using `torch.load` with `weights_only=False` (the current default value), which uses the default pickle module implicitly. It is possible to construct malicious pickle data which will execute arbitrary code during unpickling (See https://github.com/pytorch/pytorch/blob/main/SECURITY.md#untrusted-models for more details). In a future release, the default value for `weights_only` will be flipped to `True`. This limits the functions that could be executed during unpickling. Arbitrary objects will no longer be allowed to be loaded via this mode unless they are explicitly allowlisted by the user via `torch.serialization.add_safe_globals`. We recommend you start setting `weights_only=True` for any use case where you don't have full control of the loaded file. Please open an issue on GitHub for any issues related to this experimental feature.\n",
      "  lora_state_dict = torch.load(lora_model_path)\n"
     ]
    }
   ],
   "source": [
    "def merge_weights(base_model_path, lora_model_path, output_dir):\n",
    "    # Load pre-trained model and weights\n",
    "    base_model = CNN().to(device)\n",
    "    base_model.load_state_dict(torch.load(base_model_path, map_location=device))\n",
    "    base_model.load_state_dict(torch.load('peft_model_BN_15%.pt', map_location=device), strict=False)\n",
    "    # Perform weight decay\n",
    "    original_weight = base_model.Linear.weight.data\n",
    "    decayed_weight = original_weight * 0.5\n",
    "    base_model.Linear.weight.data = decayed_weight\n",
    "    # Load LoRA fine-tuned weights\n",
    "    lora_state_dict = torch.load(lora_model_path)\n",
    "\n",
    "    # Merge weights\n",
    "    for k, v in lora_state_dict.items():\n",
    "        if 'lora_A' in k:\n",
    "            original_key = k.replace('.lora_A', '')\n",
    "            lora_a_key = k\n",
    "            lora_b_key = k.replace('lora_A', 'lora_B')\n",
    "\n",
    "            # Get LoRA matrix\n",
    "            lora_a = lora_state_dict[lora_a_key]\n",
    "            lora_b = lora_state_dict[lora_b_key]\n",
    "\n",
    "            # A*B\n",
    "            merged_weight = torch.matmul(lora_b, lora_a)\n",
    "\n",
    "            # Add the merged weights to the corresponding weights of the pre-trained model\n",
    "            if original_key + '.weight' in base_model.state_dict():\n",
    "                base_model.state_dict()[original_key + '.weight'] += merged_weight\n",
    "\n",
    "    # Save merged weights\n",
    "    torch.save(base_model.state_dict(), output_dir)\n",
    "\n",
    "\n",
    "merge_weights('oil-best_model_cnn_x1.pt', 'lora_state_dict_15%.pt', 'transfer_model_15%.pt')"
   ]
  },
  {
   "cell_type": "markdown",
   "metadata": {},
   "source": [
    "### Test the transfer model"
   ]
  },
  {
   "cell_type": "code",
   "execution_count": 4,
   "metadata": {},
   "outputs": [
    {
     "name": "stderr",
     "output_type": "stream",
     "text": [
      "C:\\Users\\lai jiahui\\AppData\\Local\\Temp\\ipykernel_16188\\1172742989.py:2: FutureWarning: You are using `torch.load` with `weights_only=False` (the current default value), which uses the default pickle module implicitly. It is possible to construct malicious pickle data which will execute arbitrary code during unpickling (See https://github.com/pytorch/pytorch/blob/main/SECURITY.md#untrusted-models for more details). In a future release, the default value for `weights_only` will be flipped to `True`. This limits the functions that could be executed during unpickling. Arbitrary objects will no longer be allowed to be loaded via this mode unless they are explicitly allowlisted by the user via `torch.serialization.add_safe_globals`. We recommend you start setting `weights_only=True` for any use case where you don't have full control of the loaded file. Please open an issue on GitHub for any issues related to this experimental feature.\n",
      "  secondary_cnn.load_state_dict(torch.load('transfer_model_15%.pt', map_location=device))\n"
     ]
    },
    {
     "name": "stdout",
     "output_type": "stream",
     "text": [
      "Training set evaluation results:\n",
      "R2: 0.9994573256142273, RMSEP: 0.0038521102535665664, MAE: 0.002560625784099102, MAX_ERROR: 0.009753882884979248\n",
      "Validation set evaluation results:\n",
      "R2: 0.8592947481730904, RMSEP: 0.06038775120503804, MAE: 0.0504158792587427, MAX_ERROR: 0.11481696367263794\n",
      "Test set evaluation results:\n",
      "R2: 0.9128151721774279, RMSEP: 0.051704658223179364, MAE: 0.04282660675900323, MAX_ERROR: 0.11463791877031326\n"
     ]
    }
   ],
   "source": [
    "secondary_cnn = CNN().to(device)\n",
    "secondary_cnn.load_state_dict(torch.load('transfer_model_15%.pt', map_location=device))\n",
    "\n",
    "\n",
    "Path2 = 'oil-data\\\\iRaman_processed_spectra.csv'\n",
    "X = pd.read_csv(Path2, header=None)\n",
    "X = np.array(X)\n",
    "\n",
    "y_path = 'oil-data\\\\Olive oil labels.csv'\n",
    "y = pd.read_csv(y_path, header=None)\n",
    "y = np.array(y)\n",
    "y = y.reshape(-1)\n",
    "\n",
    "X_trans, X_val, y_trans, y_val = train_test_split(X, y, test_size=0.2, random_state=42)\n",
    "X_val, X_test, y_val, y_test = train_test_split(X_val, y_val, test_size=0.5, random_state=42)\n",
    "\n",
    "X_train, X_left, y_train, y_left = train_test_split(X_trans, y_trans, test_size=0.85, random_state=12)\n",
    "\n",
    "\n",
    "X_train = torch.tensor(X_train, dtype=torch.float32, device=device)\n",
    "X_val = torch.tensor(X_val, dtype=torch.float32, device=device)\n",
    "X_test = torch.tensor(X_test, dtype=torch.float32, device=device)\n",
    "y_train = torch.tensor(y_train, dtype=torch.float32, device=device)\n",
    "y_val = torch.tensor(y_val, dtype=torch.float32, device=device)\n",
    "y_test = torch.tensor(y_test, dtype=torch.float32, device=device)\n",
    "\n",
    "train_dataset = TensorDataset(X_train, y_train)\n",
    "val_dataset = TensorDataset(X_val, y_val)\n",
    "test_dataset = TensorDataset(X_test, y_test)\n",
    "\n",
    "train_loader = DataLoader(train_dataset, batch_size=len(y_train), shuffle=True)\n",
    "val_loader = DataLoader(val_dataset, batch_size=len(y_val), shuffle=False)\n",
    "test_loader = DataLoader(test_dataset, batch_size=len(y_test), shuffle=False)\n",
    "\n",
    "\n",
    "def evaluate_model(model, loader, device):\n",
    "    model.eval()\n",
    "    predictions = []\n",
    "    actuals = []\n",
    "    with torch.no_grad():\n",
    "        for batch_x, batch_y in loader:\n",
    "            batch_x = batch_x.unsqueeze(dim=1).to(device)\n",
    "            batch_y = batch_y.to(device)\n",
    "            output = model(batch_x)\n",
    "            predictions.extend(output.cpu().tolist())\n",
    "            actuals.extend(batch_y.cpu().tolist())\n",
    "    final_r2 = r2_score(actuals, predictions)\n",
    "    RMSEP = root_mean_squared_error(actuals, predictions)\n",
    "    MAE = mean_absolute_error(actuals, predictions)\n",
    "    MAX_ERROR = max_error(actuals, predictions)\n",
    "    return final_r2, RMSEP, MAE, MAX_ERROR\n",
    "\n",
    "print('Training set evaluation results:')\n",
    "r2, rmse, mae, me = evaluate_model(secondary_cnn, train_loader, device)\n",
    "print(f'R2: {r2}, RMSEP: {rmse}, MAE: {mae}, MAX_ERROR: {me}')\n",
    "\n",
    "print('Validation set evaluation results:')\n",
    "r2, rmse, mae, me = evaluate_model(secondary_cnn, val_loader, device)\n",
    "print(f'R2: {r2}, RMSEP: {rmse}, MAE: {mae}, MAX_ERROR: {me}')\n",
    "\n",
    "print('Test set evaluation results:')\n",
    "r2, rmse, mae, me = evaluate_model(secondary_cnn, test_loader, device)\n",
    "print(f'R2: {r2}, RMSEP: {rmse}, MAE: {mae}, MAX_ERROR: {me}')"
   ]
  }
 ],
 "metadata": {
  "kernelspec": {
   "display_name": "torch",
   "language": "python",
   "name": "python3"
  },
  "language_info": {
   "codemirror_mode": {
    "name": "ipython",
    "version": 3
   },
   "file_extension": ".py",
   "mimetype": "text/x-python",
   "name": "python",
   "nbconvert_exporter": "python",
   "pygments_lexer": "ipython3",
   "version": "3.12.3"
  }
 },
 "nbformat": 4,
 "nbformat_minor": 2
}
