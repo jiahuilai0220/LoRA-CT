{
 "cells": [
  {
   "cell_type": "code",
   "execution_count": 1,
   "metadata": {},
   "outputs": [],
   "source": [
    "import torch\n",
    "from model import CNN\n",
    "import numpy as np\n",
    "import pandas as pd\n",
    "from sklearn.model_selection import train_test_split\n",
    "from torch.utils.data import TensorDataset, DataLoader\n",
    "from sklearn.metrics import r2_score, root_mean_squared_error, mean_absolute_error, max_error\n",
    "# Determine the equipment\n",
    "device = torch.device('cuda' if torch.cuda.is_available() else 'cpu')"
   ]
  },
  {
   "cell_type": "markdown",
   "metadata": {},
   "source": [
    "### Calibration Transfer-merge LoRA modules with pre-trained weights"
   ]
  },
  {
   "cell_type": "code",
   "execution_count": 2,
   "metadata": {},
   "outputs": [
    {
     "name": "stderr",
     "output_type": "stream",
     "text": [
      "C:\\Users\\lai jiahui\\AppData\\Local\\Temp\\ipykernel_10256\\139311063.py:4: FutureWarning: You are using `torch.load` with `weights_only=False` (the current default value), which uses the default pickle module implicitly. It is possible to construct malicious pickle data which will execute arbitrary code during unpickling (See https://github.com/pytorch/pytorch/blob/main/SECURITY.md#untrusted-models for more details). In a future release, the default value for `weights_only` will be flipped to `True`. This limits the functions that could be executed during unpickling. Arbitrary objects will no longer be allowed to be loaded via this mode unless they are explicitly allowlisted by the user via `torch.serialization.add_safe_globals`. We recommend you start setting `weights_only=True` for any use case where you don't have full control of the loaded file. Please open an issue on GitHub for any issues related to this experimental feature.\n",
      "  base_model.load_state_dict(torch.load(base_model_path, map_location=device))\n",
      "C:\\Users\\lai jiahui\\AppData\\Local\\Temp\\ipykernel_10256\\139311063.py:5: FutureWarning: You are using `torch.load` with `weights_only=False` (the current default value), which uses the default pickle module implicitly. It is possible to construct malicious pickle data which will execute arbitrary code during unpickling (See https://github.com/pytorch/pytorch/blob/main/SECURITY.md#untrusted-models for more details). In a future release, the default value for `weights_only` will be flipped to `True`. This limits the functions that could be executed during unpickling. Arbitrary objects will no longer be allowed to be loaded via this mode unless they are explicitly allowlisted by the user via `torch.serialization.add_safe_globals`. We recommend you start setting `weights_only=True` for any use case where you don't have full control of the loaded file. Please open an issue on GitHub for any issues related to this experimental feature.\n",
      "  base_model.load_state_dict(torch.load('iRaman-08-peft_model_BN_1%.pt', map_location=device), strict=False)\n",
      "C:\\Users\\lai jiahui\\AppData\\Local\\Temp\\ipykernel_10256\\139311063.py:11: FutureWarning: You are using `torch.load` with `weights_only=False` (the current default value), which uses the default pickle module implicitly. It is possible to construct malicious pickle data which will execute arbitrary code during unpickling (See https://github.com/pytorch/pytorch/blob/main/SECURITY.md#untrusted-models for more details). In a future release, the default value for `weights_only` will be flipped to `True`. This limits the functions that could be executed during unpickling. Arbitrary objects will no longer be allowed to be loaded via this mode unless they are explicitly allowlisted by the user via `torch.serialization.add_safe_globals`. We recommend you start setting `weights_only=True` for any use case where you don't have full control of the loaded file. Please open an issue on GitHub for any issues related to this experimental feature.\n",
      "  lora_state_dict = torch.load(lora_model_path)\n"
     ]
    }
   ],
   "source": [
    "def merge_weights(base_model_path, lora_model_path, output_dir):\n",
    "    # Load pre-trained model and weights\n",
    "    base_model = CNN().to(device)\n",
    "    base_model.load_state_dict(torch.load(base_model_path, map_location=device))\n",
    "    base_model.load_state_dict(torch.load('iRaman-08-peft_model_BN_1%.pt', map_location=device), strict=False)\n",
    "    # Perform weight decay\n",
    "    original_weight = base_model.Linear.weight.data\n",
    "    decayed_weight = original_weight * 0.5\n",
    "    base_model.Linear.weight.data = decayed_weight\n",
    "    # Load LoRA fine-tuned weights\n",
    "    lora_state_dict = torch.load(lora_model_path)\n",
    "\n",
    "    # Merge weights\n",
    "    for k, v in lora_state_dict.items():\n",
    "        if 'lora_A' in k:\n",
    "            original_key = k.replace('.lora_A', '')\n",
    "            lora_a_key = k\n",
    "            lora_b_key = k.replace('lora_A', 'lora_B')\n",
    "\n",
    "            # Get LoRA matrix\n",
    "            lora_a = lora_state_dict[lora_a_key]\n",
    "            lora_b = lora_state_dict[lora_b_key]\n",
    "\n",
    "            # A*B\n",
    "            merged_weight = torch.matmul(lora_b, lora_a)\n",
    "\n",
    "            # Add the merged weights to the corresponding weights of the pre-trained model\n",
    "            if original_key + '.weight' in base_model.state_dict():\n",
    "                base_model.state_dict()[original_key + '.weight'] += merged_weight\n",
    "\n",
    "    # Save merged weights\n",
    "    torch.save(base_model.state_dict(), output_dir)\n",
    "\n",
    "\n",
    "merge_weights('ethanol-best_model_cnn_x1.pt', 'iRaman-08-lora_state_dict_1%.pt', 'iRaman-08-transfer_model_1%.pt')"
   ]
  },
  {
   "cell_type": "markdown",
   "metadata": {},
   "source": [
    "### Test the transfer model(secondary_cnn)"
   ]
  },
  {
   "cell_type": "code",
   "execution_count": 3,
   "metadata": {},
   "outputs": [
    {
     "name": "stderr",
     "output_type": "stream",
     "text": [
      "C:\\Users\\lai jiahui\\AppData\\Local\\Temp\\ipykernel_10256\\1676886018.py:2: FutureWarning: You are using `torch.load` with `weights_only=False` (the current default value), which uses the default pickle module implicitly. It is possible to construct malicious pickle data which will execute arbitrary code during unpickling (See https://github.com/pytorch/pytorch/blob/main/SECURITY.md#untrusted-models for more details). In a future release, the default value for `weights_only` will be flipped to `True`. This limits the functions that could be executed during unpickling. Arbitrary objects will no longer be allowed to be loaded via this mode unless they are explicitly allowlisted by the user via `torch.serialization.add_safe_globals`. We recommend you start setting `weights_only=True` for any use case where you don't have full control of the loaded file. Please open an issue on GitHub for any issues related to this experimental feature.\n",
      "  secondary_cnn.load_state_dict(torch.load('iRaman-08-transfer_model_1%.pt', map_location=device))\n"
     ]
    },
    {
     "name": "stdout",
     "output_type": "stream",
     "text": [
      "Training set evaluation results:\n",
      "R2: 0.9997919287315905, RMSEP: 0.0032485056863735483, MAE: 0.0024863649159669876, MAX_ERROR: 0.0068466514348983765\n",
      "Validation set evaluation results:\n",
      "R2: 0.9821292369855523, RMSEP: 0.033009582692838144, MAE: 0.019685755863233848, MAX_ERROR: 0.15143048763275146\n",
      "Test set evaluation results:\n",
      "R2: 0.9709574006572883, RMSEP: 0.037110158056809464, MAE: 0.01969669573009014, MAX_ERROR: 0.19979363679885864\n"
     ]
    }
   ],
   "source": [
    "secondary_cnn = CNN().to(device)\n",
    "secondary_cnn.load_state_dict(torch.load('iRaman-08-transfer_model_1%.pt', map_location=device))\n",
    "\n",
    "\n",
    "X_train = np.load('ethanol-iRaman-data\\\\iRaman-08_spectra_train.npy')\n",
    "y_train= np.load('ethanol-iRaman-data\\\\iRaman-ethanol_concentrations_train.npy')\n",
    "    \n",
    "X_val = np.load('ethanol-iRaman-data\\\\iRaman-08_spectra_val.npy')\n",
    "y_val= np.load('ethanol-iRaman-data\\\\iRaman-ethanol_concentrations_val.npy')\n",
    "    \n",
    "X_test = np.load('ethanol-iRaman-data\\\\iRaman-08_spectra_test.npy')\n",
    "y_test= np.load('ethanol-iRaman-data\\\\iRaman-ethanol_concentrations_test.npy')\n",
    "X_train, X_left, y_train, y_left = train_test_split(X_train, y_train, test_size=0.99, random_state=84)\n",
    "\n",
    "\n",
    "X_train = torch.tensor(X_train, dtype=torch.float32, device=device)\n",
    "X_val = torch.tensor(X_val, dtype=torch.float32, device=device)\n",
    "X_test = torch.tensor(X_test, dtype=torch.float32, device=device)\n",
    "y_train = torch.tensor(y_train, dtype=torch.float32, device=device)\n",
    "y_val = torch.tensor(y_val, dtype=torch.float32, device=device)\n",
    "y_test = torch.tensor(y_test, dtype=torch.float32, device=device)\n",
    "\n",
    "train_dataset = TensorDataset(X_train, y_train)\n",
    "val_dataset = TensorDataset(X_val, y_val)\n",
    "test_dataset = TensorDataset(X_test, y_test)\n",
    "\n",
    "train_loader = DataLoader(train_dataset, batch_size=len(y_train), shuffle=True)\n",
    "val_loader = DataLoader(val_dataset, batch_size=len(y_val), shuffle=False)\n",
    "test_loader = DataLoader(test_dataset, batch_size=len(y_test), shuffle=False)\n",
    "\n",
    "\n",
    "def evaluate_model(model, loader, device):\n",
    "    model.eval()\n",
    "    predictions = []\n",
    "    actuals = []\n",
    "    with torch.no_grad():\n",
    "        for batch_x, batch_y in loader:\n",
    "            batch_x = batch_x.unsqueeze(dim=1).to(device)\n",
    "            batch_y = batch_y.to(device)\n",
    "            output = model(batch_x)\n",
    "            predictions.extend(output.cpu().tolist())\n",
    "            actuals.extend(batch_y.cpu().tolist())\n",
    "    final_r2 = r2_score(actuals, predictions)\n",
    "    RMSEP = root_mean_squared_error(actuals, predictions)\n",
    "    MAE = mean_absolute_error(actuals, predictions)\n",
    "    MAX_ERROR = max_error(actuals, predictions)\n",
    "    return final_r2, RMSEP, MAE, MAX_ERROR\n",
    "\n",
    "print('Training set evaluation results:')\n",
    "r2, rmse, mae, me = evaluate_model(secondary_cnn, train_loader, device)\n",
    "print(f'R2: {r2}, RMSEP: {rmse}, MAE: {mae}, MAX_ERROR: {me}')\n",
    "\n",
    "print('Validation set evaluation results:')\n",
    "r2, rmse, mae, me = evaluate_model(secondary_cnn, val_loader, device)\n",
    "print(f'R2: {r2}, RMSEP: {rmse}, MAE: {mae}, MAX_ERROR: {me}')\n",
    "\n",
    "print('Test set evaluation results:')\n",
    "r2, rmse, mae, me = evaluate_model(secondary_cnn, test_loader, device)\n",
    "print(f'R2: {r2}, RMSEP: {rmse}, MAE: {mae}, MAX_ERROR: {me}')"
   ]
  },
  {
   "cell_type": "markdown",
   "metadata": {},
   "source": [
    "### Replace matrices A and B with two new matrices to switch to the task of analyzing another spectrometer"
   ]
  },
  {
   "cell_type": "code",
   "execution_count": 4,
   "metadata": {},
   "outputs": [
    {
     "name": "stderr",
     "output_type": "stream",
     "text": [
      "C:\\Users\\lai jiahui\\AppData\\Local\\Temp\\ipykernel_10256\\1356931585.py:4: FutureWarning: You are using `torch.load` with `weights_only=False` (the current default value), which uses the default pickle module implicitly. It is possible to construct malicious pickle data which will execute arbitrary code during unpickling (See https://github.com/pytorch/pytorch/blob/main/SECURITY.md#untrusted-models for more details). In a future release, the default value for `weights_only` will be flipped to `True`. This limits the functions that could be executed during unpickling. Arbitrary objects will no longer be allowed to be loaded via this mode unless they are explicitly allowlisted by the user via `torch.serialization.add_safe_globals`. We recommend you start setting `weights_only=True` for any use case where you don't have full control of the loaded file. Please open an issue on GitHub for any issues related to this experimental feature.\n",
      "  merged_model.load_state_dict(torch.load(merged_model_path))\n",
      "C:\\Users\\lai jiahui\\AppData\\Local\\Temp\\ipykernel_10256\\1356931585.py:5: FutureWarning: You are using `torch.load` with `weights_only=False` (the current default value), which uses the default pickle module implicitly. It is possible to construct malicious pickle data which will execute arbitrary code during unpickling (See https://github.com/pytorch/pytorch/blob/main/SECURITY.md#untrusted-models for more details). In a future release, the default value for `weights_only` will be flipped to `True`. This limits the functions that could be executed during unpickling. Arbitrary objects will no longer be allowed to be loaded via this mode unless they are explicitly allowlisted by the user via `torch.serialization.add_safe_globals`. We recommend you start setting `weights_only=True` for any use case where you don't have full control of the loaded file. Please open an issue on GitHub for any issues related to this experimental feature.\n",
      "  merged_model.load_state_dict(torch.load('iRaman-19-peft_model_BN_1%.pt', map_location=device), strict=False)\n",
      "C:\\Users\\lai jiahui\\AppData\\Local\\Temp\\ipykernel_10256\\1356931585.py:7: FutureWarning: You are using `torch.load` with `weights_only=False` (the current default value), which uses the default pickle module implicitly. It is possible to construct malicious pickle data which will execute arbitrary code during unpickling (See https://github.com/pytorch/pytorch/blob/main/SECURITY.md#untrusted-models for more details). In a future release, the default value for `weights_only` will be flipped to `True`. This limits the functions that could be executed during unpickling. Arbitrary objects will no longer be allowed to be loaded via this mode unless they are explicitly allowlisted by the user via `torch.serialization.add_safe_globals`. We recommend you start setting `weights_only=True` for any use case where you don't have full control of the loaded file. Please open an issue on GitHub for any issues related to this experimental feature.\n",
      "  original_lora_state_dict = torch.load(original_lora_path)\n",
      "C:\\Users\\lai jiahui\\AppData\\Local\\Temp\\ipykernel_10256\\1356931585.py:10: FutureWarning: You are using `torch.load` with `weights_only=False` (the current default value), which uses the default pickle module implicitly. It is possible to construct malicious pickle data which will execute arbitrary code during unpickling (See https://github.com/pytorch/pytorch/blob/main/SECURITY.md#untrusted-models for more details). In a future release, the default value for `weights_only` will be flipped to `True`. This limits the functions that could be executed during unpickling. Arbitrary objects will no longer be allowed to be loaded via this mode unless they are explicitly allowlisted by the user via `torch.serialization.add_safe_globals`. We recommend you start setting `weights_only=True` for any use case where you don't have full control of the loaded file. Please open an issue on GitHub for any issues related to this experimental feature.\n",
      "  new_lora_state_dict = torch.load(new_lora_path)\n"
     ]
    }
   ],
   "source": [
    "\n",
    "def update_weights_with_new_lora(merged_model_path, original_lora_path, new_lora_path, output_dir):\n",
    "    # Load merged model and weights\n",
    "    merged_model = CNN().to(device)\n",
    "    merged_model.load_state_dict(torch.load(merged_model_path))\n",
    "    merged_model.load_state_dict(torch.load('iRaman-19-peft_model_BN_1%.pt', map_location=device), strict=False)\n",
    "    # Load original LoRA fine-tuned weights\n",
    "    original_lora_state_dict = torch.load(original_lora_path)\n",
    "    \n",
    "    # Load new LoRA fine-tuned weights\n",
    "    new_lora_state_dict = torch.load(new_lora_path)\n",
    "\n",
    "    # Subtract original LoRA weights\n",
    "    for k, v in original_lora_state_dict.items():\n",
    "        if 'lora_A' in k:\n",
    "            original_key = k.replace('.lora_A', '')\n",
    "            lora_a_key = k\n",
    "            lora_b_key = k.replace('lora_A', 'lora_B')\n",
    "\n",
    "            # Get original LoRA matrix\n",
    "            original_lora_a = original_lora_state_dict[lora_a_key]\n",
    "            original_lora_b = original_lora_state_dict[lora_b_key]\n",
    "\n",
    "            # A*B\n",
    "            original_merged_weight = torch.matmul(original_lora_b, original_lora_a)\n",
    "\n",
    "            # Subtract the original merged weights from the corresponding weights of the merged model\n",
    "            if original_key + '.weight' in merged_model.state_dict():\n",
    "                merged_model.state_dict()[original_key + '.weight'] -= original_merged_weight\n",
    "    \n",
    "\n",
    "    # Add new LoRA weights\n",
    "    for k, v in new_lora_state_dict.items():\n",
    "        if 'lora_A' in k:\n",
    "            original_key = k.replace('.lora_A', '')\n",
    "            lora_a_key = k\n",
    "            lora_b_key = k.replace('lora_A', 'lora_B')\n",
    "\n",
    "            # Get new LoRA matrix\n",
    "            new_lora_a = new_lora_state_dict[lora_a_key]\n",
    "            new_lora_b = new_lora_state_dict[lora_b_key]\n",
    "\n",
    "            # A*B\n",
    "            new_merged_weight = torch.matmul(new_lora_b, new_lora_a)\n",
    "\n",
    "            # Add the new merged weights to the corresponding weights of the merged model\n",
    "            if original_key + '.weight' in merged_model.state_dict():\n",
    "                merged_model.state_dict()[original_key + '.weight'] += new_merged_weight\n",
    "    \n",
    "    # Save updated merged weights\n",
    "    torch.save(merged_model.state_dict(), output_dir)\n",
    "\n",
    "\n",
    "device = torch.device('cuda' if torch.cuda.is_available() else 'cpu')\n",
    "update_weights_with_new_lora(\n",
    "    'iRaman-08-transfer_model_1%.pt', \n",
    "    'iRaman-08-lora_state_dict_1%.pt', \n",
    "    'iRaman-19-lora_state_dict_1%.pt', \n",
    "    'iRaman-19-transfer_model_1%.pt'\n",
    ")"
   ]
  },
  {
   "cell_type": "markdown",
   "metadata": {},
   "source": [
    "### Test the transfer model(secondary_cnn_2)"
   ]
  },
  {
   "cell_type": "code",
   "execution_count": 5,
   "metadata": {},
   "outputs": [
    {
     "name": "stderr",
     "output_type": "stream",
     "text": [
      "C:\\Users\\lai jiahui\\AppData\\Local\\Temp\\ipykernel_10256\\3887108431.py:2: FutureWarning: You are using `torch.load` with `weights_only=False` (the current default value), which uses the default pickle module implicitly. It is possible to construct malicious pickle data which will execute arbitrary code during unpickling (See https://github.com/pytorch/pytorch/blob/main/SECURITY.md#untrusted-models for more details). In a future release, the default value for `weights_only` will be flipped to `True`. This limits the functions that could be executed during unpickling. Arbitrary objects will no longer be allowed to be loaded via this mode unless they are explicitly allowlisted by the user via `torch.serialization.add_safe_globals`. We recommend you start setting `weights_only=True` for any use case where you don't have full control of the loaded file. Please open an issue on GitHub for any issues related to this experimental feature.\n",
      "  secondary_cnn_2.load_state_dict(torch.load('iRaman-19-transfer_model_1%.pt', map_location=device))\n"
     ]
    },
    {
     "name": "stdout",
     "output_type": "stream",
     "text": [
      "Training set evaluation results:\n",
      "R2: 0.9999327189793089, RMSEP: 0.00184724227755923, MAE: 0.0015965327620506287, MAX_ERROR: 0.00312688946723938\n",
      "Validation set evaluation results:\n",
      "R2: 0.9959643571282887, RMSEP: 0.01568645650733745, MAE: 0.01100421576174321, MAX_ERROR: 0.04738231748342514\n",
      "Test set evaluation results:\n",
      "R2: 0.9946978089006703, RMSEP: 0.015856332728445915, MAE: 0.011483219576378663, MAX_ERROR: 0.0435032844543457\n"
     ]
    }
   ],
   "source": [
    "secondary_cnn_2 = CNN().to(device)\n",
    "secondary_cnn_2.load_state_dict(torch.load('iRaman-19-transfer_model_1%.pt', map_location=device))\n",
    "\n",
    "\n",
    "X_train = np.load('ethanol-iRaman-data\\\\iRaman-19_spectra_train.npy')\n",
    "y_train= np.load('ethanol-iRaman-data\\\\iRaman-ethanol_concentrations_train.npy')\n",
    "    \n",
    "X_val = np.load('ethanol-iRaman-data\\\\iRaman-19_spectra_val.npy')\n",
    "y_val= np.load('ethanol-iRaman-data\\\\iRaman-ethanol_concentrations_val.npy')\n",
    "    \n",
    "X_test = np.load('ethanol-iRaman-data\\\\iRaman-19_spectra_test.npy')\n",
    "y_test= np.load('ethanol-iRaman-data\\\\iRaman-ethanol_concentrations_test.npy')\n",
    "X_train, X_left, y_train, y_left = train_test_split(X_train, y_train, test_size=0.99, random_state=84)\n",
    "\n",
    "\n",
    "X_train = torch.tensor(X_train, dtype=torch.float32, device=device)\n",
    "X_val = torch.tensor(X_val, dtype=torch.float32, device=device)\n",
    "X_test = torch.tensor(X_test, dtype=torch.float32, device=device)\n",
    "y_train = torch.tensor(y_train, dtype=torch.float32, device=device)\n",
    "y_val = torch.tensor(y_val, dtype=torch.float32, device=device)\n",
    "y_test = torch.tensor(y_test, dtype=torch.float32, device=device)\n",
    "\n",
    "train_dataset = TensorDataset(X_train, y_train)\n",
    "val_dataset = TensorDataset(X_val, y_val)\n",
    "test_dataset = TensorDataset(X_test, y_test)\n",
    "\n",
    "train_loader = DataLoader(train_dataset, batch_size=len(y_train), shuffle=True)\n",
    "val_loader = DataLoader(val_dataset, batch_size=len(y_val), shuffle=False)\n",
    "test_loader = DataLoader(test_dataset, batch_size=len(y_test), shuffle=False)\n",
    "\n",
    "\n",
    "def evaluate_model(model, loader, device):\n",
    "    model.eval()\n",
    "    predictions = []\n",
    "    actuals = []\n",
    "    with torch.no_grad():\n",
    "        for batch_x, batch_y in loader:\n",
    "            batch_x = batch_x.unsqueeze(dim=1).to(device)\n",
    "            batch_y = batch_y.to(device)\n",
    "            output = model(batch_x)\n",
    "            predictions.extend(output.cpu().tolist())\n",
    "            actuals.extend(batch_y.cpu().tolist())\n",
    "    final_r2 = r2_score(actuals, predictions)\n",
    "    RMSEP = root_mean_squared_error(actuals, predictions)\n",
    "    MAE = mean_absolute_error(actuals, predictions)\n",
    "    MAX_ERROR = max_error(actuals, predictions)\n",
    "    return final_r2, RMSEP, MAE, MAX_ERROR\n",
    "\n",
    "print('Training set evaluation results:')\n",
    "r2, rmse, mae, me = evaluate_model(secondary_cnn_2, train_loader, device)\n",
    "print(f'R2: {r2}, RMSEP: {rmse}, MAE: {mae}, MAX_ERROR: {me}')\n",
    "\n",
    "print('Validation set evaluation results:')\n",
    "r2, rmse, mae, me = evaluate_model(secondary_cnn_2, val_loader, device)\n",
    "print(f'R2: {r2}, RMSEP: {rmse}, MAE: {mae}, MAX_ERROR: {me}')\n",
    "\n",
    "print('Test set evaluation results:')\n",
    "r2, rmse, mae, me = evaluate_model(secondary_cnn_2, test_loader, device)\n",
    "print(f'R2: {r2}, RMSEP: {rmse}, MAE: {mae}, MAX_ERROR: {me}')"
   ]
  }
 ],
 "metadata": {
  "kernelspec": {
   "display_name": "torch",
   "language": "python",
   "name": "python3"
  },
  "language_info": {
   "codemirror_mode": {
    "name": "ipython",
    "version": 3
   },
   "file_extension": ".py",
   "mimetype": "text/x-python",
   "name": "python",
   "nbconvert_exporter": "python",
   "pygments_lexer": "ipython3",
   "version": "3.12.3"
  }
 },
 "nbformat": 4,
 "nbformat_minor": 2
}
